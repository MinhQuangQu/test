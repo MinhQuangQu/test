{
  "nbformat": 4,
  "nbformat_minor": 0,
  "metadata": {
    "colab": {
      "provenance": [],
      "include_colab_link": true
    },
    "kernelspec": {
      "name": "python3",
      "display_name": "Python 3"
    },
    "language_info": {
      "name": "python"
    }
  },
  "cells": [
    {
      "cell_type": "markdown",
      "metadata": {
        "id": "view-in-github",
        "colab_type": "text"
      },
      "source": [
        "<a href=\"https://colab.research.google.com/github/MinhQuangQu/test/blob/main/FINAL_RFM.ipynb\" target=\"_parent\"><img src=\"https://colab.research.google.com/assets/colab-badge.svg\" alt=\"Open In Colab\"/></a>"
      ]
    },
    {
      "cell_type": "code",
      "execution_count": null,
      "metadata": {
        "id": "RdRjfqpI9u0G"
      },
      "outputs": [],
      "source": [
        "import pandas as pd\n",
        "import numpy as np\n",
        "import matplotlib.pyplot as plt\n",
        "import seaborn as sns\n",
        "from sklearn.cluster import KMeans\n",
        "from sklearn.preprocessing import StandardScaler\n"
      ]
    },
    {
      "cell_type": "code",
      "source": [
        "df = pd.read_csv('Cleaned data.csv', encoding= 'latin1')"
      ],
      "metadata": {
        "id": "jVR1mCv--aqX"
      },
      "execution_count": null,
      "outputs": []
    },
    {
      "cell_type": "code",
      "source": [
        "from datetime import datetime\n",
        "\n",
        "# Đảm bảo InvoiceDate là kiểu datetime\n",
        "df['InvoiceDate'] = pd.to_datetime(df['InvoiceDate'])\n",
        "latest_day = df['InvoiceDate'].max() + pd.Timedelta(days= 1)\n",
        "\n",
        "dfRecentOrder = df.groupby('CustomerID')['InvoiceDate'].max().reset_index()\n",
        "dfRecentOrder.columns = ['CustomerID', 'RecentOrderDate']\n",
        "\n",
        "df = pd.merge(df, dfRecentOrder, on='CustomerID')\n",
        "\n",
        "df['Recency'] = (latest_day - df['RecentOrderDate']).dt.days\n"
      ],
      "metadata": {
        "id": "8ogDfyAvAly0"
      },
      "execution_count": null,
      "outputs": []
    },
    {
      "cell_type": "code",
      "source": [
        "dfFrequency = df.groupby('CustomerID')['InvoiceNo'].nunique().reset_index()\n",
        "dfFrequency.columns = ['CustomerID', 'Frequency']\n",
        "\n",
        "df = pd.merge(df, dfFrequency, on='CustomerID')\n"
      ],
      "metadata": {
        "id": "eq4Pd9EoCZ6Z"
      },
      "execution_count": null,
      "outputs": []
    },
    {
      "cell_type": "code",
      "source": [
        "df['TotalPrice'] = df['Quantity'] * df['UnitPrice']\n",
        "dfMonetary = df.groupby('CustomerID')['TotalPrice'].sum().reset_index()\n",
        "dfMonetary.columns = ['CustomerID', 'Monetary']\n",
        "df = pd.merge(df, dfMonetary, on='CustomerID')\n"
      ],
      "metadata": {
        "id": "GDMTqDeYDQsy"
      },
      "execution_count": null,
      "outputs": []
    },
    {
      "cell_type": "code",
      "source": [
        "rfm = df[['CustomerID', 'Recency', 'Frequency', 'Monetary']]\n",
        "rfm.drop_duplicates(subset = 'CustomerID', keep = 'first', inplace= True)"
      ],
      "metadata": {
        "colab": {
          "base_uri": "https://localhost:8080/"
        },
        "id": "87qgKb7XDpt6",
        "outputId": "c01f405c-a6fa-4466-aaf7-4bbe96b3633e"
      },
      "execution_count": null,
      "outputs": [
        {
          "output_type": "stream",
          "name": "stderr",
          "text": [
            "<ipython-input-9-419f4e4f9f14>:2: SettingWithCopyWarning: \n",
            "A value is trying to be set on a copy of a slice from a DataFrame\n",
            "\n",
            "See the caveats in the documentation: https://pandas.pydata.org/pandas-docs/stable/user_guide/indexing.html#returning-a-view-versus-a-copy\n",
            "  rfm.drop_duplicates(subset = 'CustomerID', keep = 'first', inplace= True)\n"
          ]
        }
      ]
    },
    {
      "cell_type": "code",
      "source": [
        "rfm.describe()"
      ],
      "metadata": {
        "colab": {
          "base_uri": "https://localhost:8080/",
          "height": 300
        },
        "id": "_0MSmR_FDpvh",
        "outputId": "678aaaf1-f2b0-4915-9efb-32b0620adf90"
      },
      "execution_count": null,
      "outputs": [
        {
          "output_type": "execute_result",
          "data": {
            "text/plain": [
              "         CustomerID      Recency    Frequency       Monetary\n",
              "count   4339.000000  4339.000000  4339.000000    4339.000000\n",
              "mean   15299.936852    92.518322     4.271261    2045.278187\n",
              "std     1721.889758   100.009747     7.703916    8974.145981\n",
              "min    12346.000000     1.000000     1.000000       0.000000\n",
              "25%    13812.500000    18.000000     1.000000     306.290000\n",
              "50%    15299.000000    51.000000     2.000000     668.430000\n",
              "75%    16778.500000   142.000000     5.000000    1653.245000\n",
              "max    18287.000000   374.000000   210.000000  280206.020000"
            ],
            "text/html": [
              "\n",
              "  <div id=\"df-a09290e5-be8a-443f-ba7d-e112466cc418\" class=\"colab-df-container\">\n",
              "    <div>\n",
              "<style scoped>\n",
              "    .dataframe tbody tr th:only-of-type {\n",
              "        vertical-align: middle;\n",
              "    }\n",
              "\n",
              "    .dataframe tbody tr th {\n",
              "        vertical-align: top;\n",
              "    }\n",
              "\n",
              "    .dataframe thead th {\n",
              "        text-align: right;\n",
              "    }\n",
              "</style>\n",
              "<table border=\"1\" class=\"dataframe\">\n",
              "  <thead>\n",
              "    <tr style=\"text-align: right;\">\n",
              "      <th></th>\n",
              "      <th>CustomerID</th>\n",
              "      <th>Recency</th>\n",
              "      <th>Frequency</th>\n",
              "      <th>Monetary</th>\n",
              "    </tr>\n",
              "  </thead>\n",
              "  <tbody>\n",
              "    <tr>\n",
              "      <th>count</th>\n",
              "      <td>4339.000000</td>\n",
              "      <td>4339.000000</td>\n",
              "      <td>4339.000000</td>\n",
              "      <td>4339.000000</td>\n",
              "    </tr>\n",
              "    <tr>\n",
              "      <th>mean</th>\n",
              "      <td>15299.936852</td>\n",
              "      <td>92.518322</td>\n",
              "      <td>4.271261</td>\n",
              "      <td>2045.278187</td>\n",
              "    </tr>\n",
              "    <tr>\n",
              "      <th>std</th>\n",
              "      <td>1721.889758</td>\n",
              "      <td>100.009747</td>\n",
              "      <td>7.703916</td>\n",
              "      <td>8974.145981</td>\n",
              "    </tr>\n",
              "    <tr>\n",
              "      <th>min</th>\n",
              "      <td>12346.000000</td>\n",
              "      <td>1.000000</td>\n",
              "      <td>1.000000</td>\n",
              "      <td>0.000000</td>\n",
              "    </tr>\n",
              "    <tr>\n",
              "      <th>25%</th>\n",
              "      <td>13812.500000</td>\n",
              "      <td>18.000000</td>\n",
              "      <td>1.000000</td>\n",
              "      <td>306.290000</td>\n",
              "    </tr>\n",
              "    <tr>\n",
              "      <th>50%</th>\n",
              "      <td>15299.000000</td>\n",
              "      <td>51.000000</td>\n",
              "      <td>2.000000</td>\n",
              "      <td>668.430000</td>\n",
              "    </tr>\n",
              "    <tr>\n",
              "      <th>75%</th>\n",
              "      <td>16778.500000</td>\n",
              "      <td>142.000000</td>\n",
              "      <td>5.000000</td>\n",
              "      <td>1653.245000</td>\n",
              "    </tr>\n",
              "    <tr>\n",
              "      <th>max</th>\n",
              "      <td>18287.000000</td>\n",
              "      <td>374.000000</td>\n",
              "      <td>210.000000</td>\n",
              "      <td>280206.020000</td>\n",
              "    </tr>\n",
              "  </tbody>\n",
              "</table>\n",
              "</div>\n",
              "    <div class=\"colab-df-buttons\">\n",
              "\n",
              "  <div class=\"colab-df-container\">\n",
              "    <button class=\"colab-df-convert\" onclick=\"convertToInteractive('df-a09290e5-be8a-443f-ba7d-e112466cc418')\"\n",
              "            title=\"Convert this dataframe to an interactive table.\"\n",
              "            style=\"display:none;\">\n",
              "\n",
              "  <svg xmlns=\"http://www.w3.org/2000/svg\" height=\"24px\" viewBox=\"0 -960 960 960\">\n",
              "    <path d=\"M120-120v-720h720v720H120Zm60-500h600v-160H180v160Zm220 220h160v-160H400v160Zm0 220h160v-160H400v160ZM180-400h160v-160H180v160Zm440 0h160v-160H620v160ZM180-180h160v-160H180v160Zm440 0h160v-160H620v160Z\"/>\n",
              "  </svg>\n",
              "    </button>\n",
              "\n",
              "  <style>\n",
              "    .colab-df-container {\n",
              "      display:flex;\n",
              "      gap: 12px;\n",
              "    }\n",
              "\n",
              "    .colab-df-convert {\n",
              "      background-color: #E8F0FE;\n",
              "      border: none;\n",
              "      border-radius: 50%;\n",
              "      cursor: pointer;\n",
              "      display: none;\n",
              "      fill: #1967D2;\n",
              "      height: 32px;\n",
              "      padding: 0 0 0 0;\n",
              "      width: 32px;\n",
              "    }\n",
              "\n",
              "    .colab-df-convert:hover {\n",
              "      background-color: #E2EBFA;\n",
              "      box-shadow: 0px 1px 2px rgba(60, 64, 67, 0.3), 0px 1px 3px 1px rgba(60, 64, 67, 0.15);\n",
              "      fill: #174EA6;\n",
              "    }\n",
              "\n",
              "    .colab-df-buttons div {\n",
              "      margin-bottom: 4px;\n",
              "    }\n",
              "\n",
              "    [theme=dark] .colab-df-convert {\n",
              "      background-color: #3B4455;\n",
              "      fill: #D2E3FC;\n",
              "    }\n",
              "\n",
              "    [theme=dark] .colab-df-convert:hover {\n",
              "      background-color: #434B5C;\n",
              "      box-shadow: 0px 1px 3px 1px rgba(0, 0, 0, 0.15);\n",
              "      filter: drop-shadow(0px 1px 2px rgba(0, 0, 0, 0.3));\n",
              "      fill: #FFFFFF;\n",
              "    }\n",
              "  </style>\n",
              "\n",
              "    <script>\n",
              "      const buttonEl =\n",
              "        document.querySelector('#df-a09290e5-be8a-443f-ba7d-e112466cc418 button.colab-df-convert');\n",
              "      buttonEl.style.display =\n",
              "        google.colab.kernel.accessAllowed ? 'block' : 'none';\n",
              "\n",
              "      async function convertToInteractive(key) {\n",
              "        const element = document.querySelector('#df-a09290e5-be8a-443f-ba7d-e112466cc418');\n",
              "        const dataTable =\n",
              "          await google.colab.kernel.invokeFunction('convertToInteractive',\n",
              "                                                    [key], {});\n",
              "        if (!dataTable) return;\n",
              "\n",
              "        const docLinkHtml = 'Like what you see? Visit the ' +\n",
              "          '<a target=\"_blank\" href=https://colab.research.google.com/notebooks/data_table.ipynb>data table notebook</a>'\n",
              "          + ' to learn more about interactive tables.';\n",
              "        element.innerHTML = '';\n",
              "        dataTable['output_type'] = 'display_data';\n",
              "        await google.colab.output.renderOutput(dataTable, element);\n",
              "        const docLink = document.createElement('div');\n",
              "        docLink.innerHTML = docLinkHtml;\n",
              "        element.appendChild(docLink);\n",
              "      }\n",
              "    </script>\n",
              "  </div>\n",
              "\n",
              "\n",
              "    <div id=\"df-0a6eebb7-ff57-4711-b729-c6969941f368\">\n",
              "      <button class=\"colab-df-quickchart\" onclick=\"quickchart('df-0a6eebb7-ff57-4711-b729-c6969941f368')\"\n",
              "                title=\"Suggest charts\"\n",
              "                style=\"display:none;\">\n",
              "\n",
              "<svg xmlns=\"http://www.w3.org/2000/svg\" height=\"24px\"viewBox=\"0 0 24 24\"\n",
              "     width=\"24px\">\n",
              "    <g>\n",
              "        <path d=\"M19 3H5c-1.1 0-2 .9-2 2v14c0 1.1.9 2 2 2h14c1.1 0 2-.9 2-2V5c0-1.1-.9-2-2-2zM9 17H7v-7h2v7zm4 0h-2V7h2v10zm4 0h-2v-4h2v4z\"/>\n",
              "    </g>\n",
              "</svg>\n",
              "      </button>\n",
              "\n",
              "<style>\n",
              "  .colab-df-quickchart {\n",
              "      --bg-color: #E8F0FE;\n",
              "      --fill-color: #1967D2;\n",
              "      --hover-bg-color: #E2EBFA;\n",
              "      --hover-fill-color: #174EA6;\n",
              "      --disabled-fill-color: #AAA;\n",
              "      --disabled-bg-color: #DDD;\n",
              "  }\n",
              "\n",
              "  [theme=dark] .colab-df-quickchart {\n",
              "      --bg-color: #3B4455;\n",
              "      --fill-color: #D2E3FC;\n",
              "      --hover-bg-color: #434B5C;\n",
              "      --hover-fill-color: #FFFFFF;\n",
              "      --disabled-bg-color: #3B4455;\n",
              "      --disabled-fill-color: #666;\n",
              "  }\n",
              "\n",
              "  .colab-df-quickchart {\n",
              "    background-color: var(--bg-color);\n",
              "    border: none;\n",
              "    border-radius: 50%;\n",
              "    cursor: pointer;\n",
              "    display: none;\n",
              "    fill: var(--fill-color);\n",
              "    height: 32px;\n",
              "    padding: 0;\n",
              "    width: 32px;\n",
              "  }\n",
              "\n",
              "  .colab-df-quickchart:hover {\n",
              "    background-color: var(--hover-bg-color);\n",
              "    box-shadow: 0 1px 2px rgba(60, 64, 67, 0.3), 0 1px 3px 1px rgba(60, 64, 67, 0.15);\n",
              "    fill: var(--button-hover-fill-color);\n",
              "  }\n",
              "\n",
              "  .colab-df-quickchart-complete:disabled,\n",
              "  .colab-df-quickchart-complete:disabled:hover {\n",
              "    background-color: var(--disabled-bg-color);\n",
              "    fill: var(--disabled-fill-color);\n",
              "    box-shadow: none;\n",
              "  }\n",
              "\n",
              "  .colab-df-spinner {\n",
              "    border: 2px solid var(--fill-color);\n",
              "    border-color: transparent;\n",
              "    border-bottom-color: var(--fill-color);\n",
              "    animation:\n",
              "      spin 1s steps(1) infinite;\n",
              "  }\n",
              "\n",
              "  @keyframes spin {\n",
              "    0% {\n",
              "      border-color: transparent;\n",
              "      border-bottom-color: var(--fill-color);\n",
              "      border-left-color: var(--fill-color);\n",
              "    }\n",
              "    20% {\n",
              "      border-color: transparent;\n",
              "      border-left-color: var(--fill-color);\n",
              "      border-top-color: var(--fill-color);\n",
              "    }\n",
              "    30% {\n",
              "      border-color: transparent;\n",
              "      border-left-color: var(--fill-color);\n",
              "      border-top-color: var(--fill-color);\n",
              "      border-right-color: var(--fill-color);\n",
              "    }\n",
              "    40% {\n",
              "      border-color: transparent;\n",
              "      border-right-color: var(--fill-color);\n",
              "      border-top-color: var(--fill-color);\n",
              "    }\n",
              "    60% {\n",
              "      border-color: transparent;\n",
              "      border-right-color: var(--fill-color);\n",
              "    }\n",
              "    80% {\n",
              "      border-color: transparent;\n",
              "      border-right-color: var(--fill-color);\n",
              "      border-bottom-color: var(--fill-color);\n",
              "    }\n",
              "    90% {\n",
              "      border-color: transparent;\n",
              "      border-bottom-color: var(--fill-color);\n",
              "    }\n",
              "  }\n",
              "</style>\n",
              "\n",
              "      <script>\n",
              "        async function quickchart(key) {\n",
              "          const quickchartButtonEl =\n",
              "            document.querySelector('#' + key + ' button');\n",
              "          quickchartButtonEl.disabled = true;  // To prevent multiple clicks.\n",
              "          quickchartButtonEl.classList.add('colab-df-spinner');\n",
              "          try {\n",
              "            const charts = await google.colab.kernel.invokeFunction(\n",
              "                'suggestCharts', [key], {});\n",
              "          } catch (error) {\n",
              "            console.error('Error during call to suggestCharts:', error);\n",
              "          }\n",
              "          quickchartButtonEl.classList.remove('colab-df-spinner');\n",
              "          quickchartButtonEl.classList.add('colab-df-quickchart-complete');\n",
              "        }\n",
              "        (() => {\n",
              "          let quickchartButtonEl =\n",
              "            document.querySelector('#df-0a6eebb7-ff57-4711-b729-c6969941f368 button');\n",
              "          quickchartButtonEl.style.display =\n",
              "            google.colab.kernel.accessAllowed ? 'block' : 'none';\n",
              "        })();\n",
              "      </script>\n",
              "    </div>\n",
              "\n",
              "    </div>\n",
              "  </div>\n"
            ],
            "application/vnd.google.colaboratory.intrinsic+json": {
              "type": "dataframe",
              "summary": "{\n  \"name\": \"rfm\",\n  \"rows\": 8,\n  \"fields\": [\n    {\n      \"column\": \"CustomerID\",\n      \"properties\": {\n        \"dtype\": \"number\",\n        \"std\": 5993.15274216583,\n        \"min\": 1721.889757959422,\n        \"max\": 18287.0,\n        \"num_unique_values\": 8,\n        \"samples\": [\n          15299.936851809172,\n          15299.0,\n          4339.0\n        ],\n        \"semantic_type\": \"\",\n        \"description\": \"\"\n      }\n    },\n    {\n      \"column\": \"Recency\",\n      \"properties\": {\n        \"dtype\": \"number\",\n        \"std\": 1499.2765825359734,\n        \"min\": 1.0,\n        \"max\": 4339.0,\n        \"num_unique_values\": 8,\n        \"samples\": [\n          92.51832219405392,\n          51.0,\n          4339.0\n        ],\n        \"semantic_type\": \"\",\n        \"description\": \"\"\n      }\n    },\n    {\n      \"column\": \"Frequency\",\n      \"properties\": {\n        \"dtype\": \"number\",\n        \"std\": 1524.1177988811692,\n        \"min\": 1.0,\n        \"max\": 4339.0,\n        \"num_unique_values\": 7,\n        \"samples\": [\n          4339.0,\n          4.271260659138051,\n          5.0\n        ],\n        \"semantic_type\": \"\",\n        \"description\": \"\"\n      }\n    },\n    {\n      \"column\": \"Monetary\",\n      \"properties\": {\n        \"dtype\": \"number\",\n        \"std\": 98203.4286168757,\n        \"min\": 0.0,\n        \"max\": 280206.02,\n        \"num_unique_values\": 8,\n        \"samples\": [\n          2045.278186909426,\n          668.4300000000001,\n          4339.0\n        ],\n        \"semantic_type\": \"\",\n        \"description\": \"\"\n      }\n    }\n  ]\n}"
            }
          },
          "metadata": {},
          "execution_count": 11
        }
      ]
    },
    {
      "cell_type": "code",
      "source": [
        "scaler = StandardScaler()\n",
        "rfm_scaled = scaler.fit_transform(rfm[['Recency', 'Frequency', 'Monetary']])"
      ],
      "metadata": {
        "id": "ZPlx1wByE63P"
      },
      "execution_count": null,
      "outputs": []
    },
    {
      "cell_type": "code",
      "source": [
        "wcss = []\n",
        "k_range =  range(1,11)\n",
        "for k in k_range:\n",
        "  kmeans = KMeans(n_clusters = k, random_state= 42)\n",
        "  kmeans.fit(rfm_scaled)\n",
        "  wcss.append(kmeans.inertia_)\n",
        "\n",
        "plt.figure(figsize =(8,6))\n",
        "plt.plot(k_range, wcss, marker = 'o')\n",
        "plt.xlabel('Number of Clusters')\n",
        "plt.ylabel('Elbow Method for Optimal')\n",
        "plt.show()"
      ],
      "metadata": {
        "colab": {
          "base_uri": "https://localhost:8080/",
          "height": 492
        },
        "id": "ys3K66ZNHVu0",
        "outputId": "76fb2059-0a5c-4fab-e0f6-f81af0f2580a"
      },
      "execution_count": null,
      "outputs": [
        {
          "output_type": "display_data",
          "data": {
            "text/plain": [
              "<Figure size 800x600 with 1 Axes>"
            ],
            "image/png": "[encoded data removed]"
          },
          "metadata": {}
        }
      ]
    },
    {
      "cell_type": "code",
      "source": [
        "kmeans = KMeans(n_clusters = 4, random_state=42)\n",
        "rfm['Cluster'] = kmeans.fit_predict(rfm_scaled)\n"
      ],
      "metadata": {
        "colab": {
          "base_uri": "https://localhost:8080/"
        },
        "id": "gWuqC00AHj68",
        "outputId": "9e5c26b2-a1fe-4f8e-99a6-82113481f04c"
      },
      "execution_count": null,
      "outputs": [
        {
          "output_type": "stream",
          "name": "stderr",
          "text": [
            "<ipython-input-15-07f4bf79d334>:2: SettingWithCopyWarning: \n",
            "A value is trying to be set on a copy of a slice from a DataFrame.\n",
            "Try using .loc[row_indexer,col_indexer] = value instead\n",
            "\n",
            "See the caveats in the documentation: https://pandas.pydata.org/pandas-docs/stable/user_guide/indexing.html#returning-a-view-versus-a-copy\n",
            "  rfm['Cluster'] = kmeans.fit_predict(rfm_scaled)\n"
          ]
        }
      ]
    },
    {
      "cell_type": "code",
      "source": [
        "rfm.columns = ['CustomerID', 'Recency', 'Frequency', 'Monetary', 'Cluster']"
      ],
      "metadata": {
        "id": "VwxU8bAEH8ry"
      },
      "execution_count": null,
      "outputs": []
    },
    {
      "cell_type": "code",
      "source": [
        "# Xem số lượng khách hàng trong mỗi nhóm\n",
        "print(rfm['Cluster'].value_counts())\n",
        "\n",
        "# Trung bình RFM của từng nhóm\n",
        "print(rfm.groupby('Cluster')[['Recency', 'Frequency', 'Monetary']].mean())\n"
      ],
      "metadata": {
        "colab": {
          "base_uri": "https://localhost:8080/"
        },
        "id": "JqFjAXi8IAcq",
        "outputId": "d9ba5b28-ffcb-4e83-966d-875c9dd967da"
      },
      "execution_count": null,
      "outputs": [
        {
          "output_type": "stream",
          "name": "stdout",
          "text": [
            "Cluster\n",
            "1    3228\n",
            "0    1082\n",
            "2      25\n",
            "3       4\n",
            "Name: count, dtype: int64\n",
            "            Recency  Frequency       Monetary\n",
            "Cluster                                      \n",
            "0        247.106285   1.582255     629.540685\n",
            "1         41.479864   4.633209    1828.778071\n",
            "2          6.360000  67.320000   55527.712400\n",
            "3          3.000000  45.500000  225452.652500\n"
          ]
        }
      ]
    },
    {
      "cell_type": "code",
      "source": [
        "rfm.to_csv('rfm.csv', index= False)"
      ],
      "metadata": {
        "id": "e78-jpWQtczK"
      },
      "execution_count": null,
      "outputs": []
    },
    {
      "cell_type": "markdown",
      "source": [
        "![image.png](data:image/png;base64,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)"
      ],
      "metadata": {
        "id": "IHJs4El8wcPv"
      }
    }
  ]
}